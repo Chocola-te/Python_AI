{
 "cells": [
  {
   "cell_type": "code",
   "execution_count": null,
   "id": "a2afd99a",
   "metadata": {},
   "outputs": [],
   "source": [
    "from sklearn import datasets\n",
    "from sklearn import svm\n",
    "\n",
    "d = datasets.load_iris()\n",
    "print(d.DESCR)"
   ]
  },
  {
   "cell_type": "code",
   "execution_count": null,
   "id": "6c088781",
   "metadata": {},
   "outputs": [],
   "source": [
    "for i in range(0, len(d.data)): # 샘플 순서대로 출력\n",
    "  print(i + 1, d.data[i], d.target[i])\n",
    "  # i + 1: 샘플 번호\n",
    "  # d.data[i]: 특성 데이터 - [sepal length, sepal width, petal length, petal width]\n",
    "  # 정답 class label(d.target[i]) - 0: setosa, 1: versicolor, 2: virginica"
   ]
  },
  {
   "cell_type": "code",
   "execution_count": null,
   "id": "95663fcc",
   "metadata": {},
   "outputs": [],
   "source": [
    "# 데이터를 가지고 모델링과 예측하기\n",
    "from sklearn import svm\n",
    "\n",
    "s = svm.SVC(gamma=0.1, C=10) # 하이퍼 매개변수란? -> 모델의 구조를 결정하는 매개변수\n",
    "                             # gamma: 결정 경계의 곡률을 결정\n",
    "                             # C: 오분류 허용 정도(작을수록 허용)\n",
    "s.fit(d.data, d.target) # 훈련 - 모델링\n",
    "\n",
    "new_d = [\n",
    "  [6.4, 3.2, 6.0, 2.5],\n",
    "  [7.1, 3.1, 4.7, 1.35],\n",
    "] # 2개 샘플\n",
    "\n",
    "res = s.predict(new_d) # 예측\n",
    "print(\"새로운 2개 샘플의 부류는\", res)"
   ]
  },
  {
   "cell_type": "code",
   "execution_count": null,
   "id": "f33e2883",
   "metadata": {},
   "outputs": [],
   "source": [
    "import plotly.express as px\n",
    "\n",
    "df = px.data.iris()\n",
    "fig = px.scatter_3d(df, x='sepal_length', y='sepal_width', z='petal_length', color='species')\n",
    "# fig.show(renderer=\"browser\")\n",
    "fig.show()"
   ]
  },
  {
   "cell_type": "code",
   "execution_count": 4,
   "id": "6404b877",
   "metadata": {},
   "outputs": [
    {
     "data": {
      "image/png": "[encoded data removed]",
      "text/plain": [
       "<Figure size 500x500 with 1 Axes>"
      ]
     },
     "metadata": {},
     "output_type": "display_data"
    },
    {
     "name": "stdout",
     "output_type": "stream",
     "text": [
      "[ 0.  0.  5. 13.  9.  1.  0.  0.  0.  0. 13. 15. 10. 15.  5.  0.  0.  3.\n",
      " 15.  2.  0. 11.  8.  0.  0.  4. 12.  0.  0.  8.  8.  0.  0.  5.  8.  0.\n",
      "  0.  9.  8.  0.  0.  4. 11.  0.  1. 12.  7.  0.  0.  2. 14.  5. 10. 12.\n",
      "  0.  0.  0.  0.  6. 13. 10.  0.  0.  0.]\n",
      "이 숫자는  0 입니다.\n"
     ]
    }
   ],
   "source": [
    "from sklearn import datasets\n",
    "import matplotlib.pyplot as plt\n",
    "\n",
    "digit=datasets.load_digits()\n",
    "\n",
    "plt.figure(figsize=(5,5))\n",
    "plt.imshow(digit.images[0],cmap=plt.cm.gray_r,interpolation='nearest') # 0번 샘플을 그림\n",
    "plt.show()\n",
    "print(digit.data[0]) # 0번 샘플의 화솟값을 출력\n",
    "print(\"이 숫자는 \",digit.target[0],\"입니다.\")"
   ]
  },
  {
   "cell_type": "code",
   "execution_count": 7,
   "id": "97f73821",
   "metadata": {},
   "outputs": [
    {
     "name": "stdout",
     "output_type": "stream",
     "text": [
      "예측값은 [0 1 2]\n",
      "참값은 0 1 2\n",
      "화소 특징을 사용했을 때 정확률= 100.0 %\n"
     ]
    }
   ],
   "source": [
    "from sklearn import datasets\n",
    "from sklearn import svm\n",
    "\n",
    "digit=datasets.load_digits()\n",
    "\n",
    "# svm의 분류기 모델 SC를 학습\n",
    "s=svm.SVC(gamma=0.1,C=10)\n",
    "s.fit(digit.data,digit.target) # digit 데이터로 모델링\n",
    "\n",
    "# 훈련 집합의 앞에 있는 샘플 3개를 새로운 샘플로 간주하고 인식해봄\n",
    "new_d=[digit.data[0],digit.data[1],digit.data[2]]\n",
    "res=s.predict(new_d)\n",
    "print(\"예측값은\", res)\n",
    "print(\"참값은\", digit.target[0],digit.target[1],digit.target[2])\n",
    "\n",
    "# 훈련 집합을 테스트 집합으로 간주하여 인식해보고 정확률을 측정\n",
    "res=s.predict(digit.data)\n",
    "correct=[i for i in range(len(res)) if res[i]==digit.target[i]]\n",
    "# print(correct)\n",
    "accuracy=len(correct)/len(res)\n",
    "print(\"화소 특징을 사용했을 때 정확률=\",accuracy*100, \"%\")"
   ]
  },
  {
   "cell_type": "code",
   "execution_count": 8,
   "id": "1a28622b",
   "metadata": {},
   "outputs": [
    {
     "name": "stdout",
     "output_type": "stream",
     "text": [
      "[[69.  0.  0.  0.  0.  0.  0.  0.  0.  0.]\n",
      " [ 0. 66.  0.  0.  0.  0.  0.  0.  0.  0.]\n",
      " [ 0.  0. 71.  0.  0.  0.  0.  0.  0.  0.]\n",
      " [ 0.  0.  0. 80.  0.  0.  0.  0.  0.  1.]\n",
      " [ 0.  0.  0.  0. 73.  0.  0.  0.  0.  0.]\n",
      " [ 0.  0.  0.  1.  0. 85.  0.  0.  0.  1.]\n",
      " [ 0.  0.  0.  0.  0.  0. 75.  0.  0.  0.]\n",
      " [ 0.  0.  0.  0.  0.  0.  0. 79.  0.  0.]\n",
      " [ 0.  0.  0.  0.  0.  0.  0.  0. 51.  1.]\n",
      " [ 0.  0.  0.  0.  0.  1.  0.  0.  0. 65.]]\n",
      "테스트 집합에 대한 정확률은 99.30458970792768 %입니다.\n"
     ]
    }
   ],
   "source": [
    "from sklearn import datasets\n",
    "from sklearn import svm\n",
    "from sklearn.model_selection import train_test_split\n",
    "import numpy as np\n",
    "\n",
    "# 데이터셋을 읽고 훈련 집합과 테스트 집합으로 분할\n",
    "digit=datasets.load_digits()\n",
    "x_train,x_test,y_train,y_test=train_test_split(digit.data,digit.target,train_size=0.6)\n",
    "\n",
    "# svm의 분류 모델 SVC를 학습\n",
    "s=svm.SVC(gamma=0.001)\n",
    "s.fit(x_train,y_train)\n",
    "\n",
    "res=s.predict(x_test)\n",
    "\n",
    "# 혼동 행렬 구함\n",
    "conf=np.zeros((10,10))\n",
    "for i in range(len(res)):\n",
    "    conf[res[i]][y_test[i]]+=1\n",
    "print(conf)\n",
    "\n",
    "# 정확률 측정하고 출력\n",
    "no_correct=0\n",
    "for i in range(10):\n",
    "    no_correct+=conf[i][i]\n",
    "accuracy=no_correct/len(res)\n",
    "print(\"테스트 집합에 대한 정확률은\", accuracy*100, \"%입니다.\")"
   ]
  },
  {
   "cell_type": "code",
   "execution_count": 9,
   "id": "2a077767",
   "metadata": {},
   "outputs": [
    {
     "name": "stdout",
     "output_type": "stream",
     "text": [
      "[0.975      0.95       0.98328691 0.99164345 0.96100279]\n",
      "정확률(평균)=97.219, 표준편차 =0.015\n"
     ]
    }
   ],
   "source": [
    "from sklearn import datasets\n",
    "from sklearn import svm\n",
    "from sklearn.model_selection import cross_val_score\n",
    "import numpy as np\n",
    "\n",
    "digit=datasets.load_digits()\n",
    "s=svm.SVC(gamma=0.001)\n",
    "accuracies=cross_val_score(s,digit.data,digit.target,cv=5) # 5-겹 교차 검증\n",
    "\n",
    "print(accuracies)\n",
    "print(\"정확률(평균)=%0.3f, 표준편차 =%0.3f\"%(accuracies.mean()*100,accuracies.std()))"
   ]
  }
 ],
 "metadata": {
  "kernelspec": {
   "display_name": "Python 3",
   "language": "python",
   "name": "python3"
  },
  "language_info": {
   "codemirror_mode": {
    "name": "ipython",
    "version": 3
   },
   "file_extension": ".py",
   "mimetype": "text/x-python",
   "name": "python",
   "nbconvert_exporter": "python",
   "pygments_lexer": "ipython3",
   "version": "3.13.3"
  }
 },
 "nbformat": 4,
 "nbformat_minor": 5
}
